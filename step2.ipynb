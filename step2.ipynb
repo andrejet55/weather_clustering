{
 "cells": [
  {
   "cell_type": "markdown",
   "metadata": {},
   "source": [
    "Step1: for this assignment you can provide your own data. The data must be pulled/scraped from online resources (as covered in other courses) to obtain full credit of this step. For example, you can scrape tweeter data or Kijiji data etc."
   ]
  },
  {
   "cell_type": "code",
   "execution_count": 1,
   "metadata": {},
   "outputs": [],
   "source": [
    "import requests\n",
    "import pandas as pd\n",
    "from dotenv import load_dotenv\n",
    "import os"
   ]
  },
  {
   "cell_type": "code",
   "execution_count": 9,
   "metadata": {},
   "outputs": [],
   "source": [
    "# Load environment variables from .env file\n",
    "load_dotenv()\n",
    "\n",
    "# Get the API key from the environment variable\n",
    "api_key = os.getenv('WEATHER_API_KEY')\n",
    "location = 'm2k3c7'  # Replace with your location\n",
    "start_date = '2024-10-01'\n",
    "end_date = '2024-10-07'\n",
    "url = f'https://api.weatherapi.com/v1/history.json?key={api_key}&q={location}&dt={start_date}&end_dt={end_date}'\n"
   ]
  },
  {
   "cell_type": "code",
   "execution_count": 10,
   "metadata": {},
   "outputs": [],
   "source": [
    "# Send a request to the API\n",
    "response = requests.get(url)\n",
    "weather_data = response.json()"
   ]
  },
  {
   "cell_type": "code",
   "execution_count": 11,
   "metadata": {},
   "outputs": [],
   "source": [
    "# Initialize lists to store daily and hourly data\n",
    "daily_data = []\n",
    "hourly_data = []\n",
    "\n",
    "# Extract daily and hourly data from the JSON response\n",
    "for day in weather_data['forecast']['forecastday']:\n",
    "    # Daily data extraction\n",
    "    date = day['date']\n",
    "    day_info = day['day']\n",
    "    daily_data.append({\n",
    "        'Date': date,\n",
    "        'Max Temp (C)': day_info['maxtemp_c'],\n",
    "        'Min Temp (C)': day_info['mintemp_c'],\n",
    "        'Avg Temp (C)': day_info['avgtemp_c'],\n",
    "        'Total Precip (mm)': day_info['totalprecip_mm'],\n",
    "        'Total Snow (cm)': day_info['totalsnow_cm'],\n",
    "        'Max Wind (Kph)': day_info['maxwind_kph'],\n",
    "        'Avg Humidity (%)': day_info['avghumidity'],\n",
    "        'Condition': day_info['condition']['text'],\n",
    "        'UV Index': day_info['uv']\n",
    "    })\n",
    "    \n",
    "    # Hourly data extraction\n",
    "    for hour in day['hour']:\n",
    "        hourly_data.append({\n",
    "            'Date': hour['time'],\n",
    "            'Temp (C)': hour['temp_c'],\n",
    "            'Condition': hour['condition']['text'],\n",
    "            'Wind Speed (Kph)': hour['wind_kph'],\n",
    "            'Wind Direction': hour['wind_dir'],\n",
    "            'Pressure (mb)': hour['pressure_mb'],\n",
    "            'Precipitation (mm)': hour['precip_mm'],\n",
    "            'Humidity (%)': hour['humidity'],\n",
    "            'Visibility (km)': hour['vis_km'],\n",
    "            'Gust Speed (Kph)': hour['gust_kph'],\n",
    "            'Feels Like (C)': hour['feelslike_c'],\n",
    "            'Will it Rain?': hour['will_it_rain'],\n",
    "            'Chance of Rain (%)': hour['chance_of_rain'],\n",
    "            'Will it Snow?': hour['will_it_snow'],\n",
    "            'Chance of Snow (%)': hour['chance_of_snow']\n",
    "        })\n",
    "\n",
    "# Convert daily and hourly data into DataFrames\n",
    "daily_df = pd.DataFrame(daily_data)\n",
    "hourly_df = pd.DataFrame(hourly_data)"
   ]
  },
  {
   "cell_type": "code",
   "execution_count": 12,
   "metadata": {},
   "outputs": [
    {
     "name": "stdout",
     "output_type": "stream",
     "text": [
      "Daily weather data saved to daily_weather_history.csv\n",
      "Hourly weather data saved to hourly_weather_history.csv\n"
     ]
    }
   ],
   "source": [
    "# Save DataFrames to CSV files\n",
    "daily_csv_file = 'daily_weather_history.csv'\n",
    "hourly_csv_file = 'hourly_weather_history.csv'\n",
    "daily_df.to_csv(daily_csv_file, index=False)\n",
    "hourly_df.to_csv(hourly_csv_file, index=False)\n",
    "\n",
    "print(f\"Daily weather data saved to {daily_csv_file}\")\n",
    "print(f\"Hourly weather data saved to {hourly_csv_file}\")"
   ]
  }
 ],
 "metadata": {
  "kernelspec": {
   "display_name": "base",
   "language": "python",
   "name": "python3"
  },
  "language_info": {
   "codemirror_mode": {
    "name": "ipython",
    "version": 3
   },
   "file_extension": ".py",
   "mimetype": "text/x-python",
   "name": "python",
   "nbconvert_exporter": "python",
   "pygments_lexer": "ipython3",
   "version": "3.12.5"
  }
 },
 "nbformat": 4,
 "nbformat_minor": 2
}
