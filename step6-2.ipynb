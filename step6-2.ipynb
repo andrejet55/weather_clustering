{
 "cells": [
  {
   "cell_type": "markdown",
   "id": "aca4c647-6286-4b4d-8bde-bf881d1f2983",
   "metadata": {},
   "source": [
    "# Boxplots:"
   ]
  },
  {
   "cell_type": "code",
   "execution_count": null,
   "id": "dd70d7d4-8f5e-4695-be3e-f81850f95325",
   "metadata": {},
   "outputs": [],
   "source": [
    "import plotly.graph_objects as go\n",
    "from plotly.subplots import make_subplots\n",
    "\n",
    "def plot_all_boxplots_plotly(df, num_cols):\n",
    "    fig = make_subplots(rows=len(num_cols), cols=1, subplot_titles=num_cols)\n",
    "    for i, col in enumerate(num_cols):\n",
    "        fig.add_trace(go.Box(y=df[col], name=col), row=i+1, col=1)\n",
    "\n",
    "    fig.update_layout(\n",
    "        height=300 * len(num_cols),  \n",
    "        showlegend=False,\n",
    "        title=\"Boxplots for Selected Numerical Columns\"\n",
    "    )\n",
    "\n",
    "    fig.show()\n"
   ]
  },
  {
   "cell_type": "code",
   "execution_count": null,
   "id": "e19d2c1b-a4ae-477d-b59c-35c2111338f2",
   "metadata": {},
   "outputs": [],
   "source": [
    "plot_all_boxplots_plotly(df,num_cols)"
   ]
  },
  {
   "cell_type": "markdown",
   "id": "c5bd99a3-3264-4317-8962-474b79f9ea88",
   "metadata": {},
   "source": [
    "# IQR:"
   ]
  },
  {
   "cell_type": "code",
   "execution_count": null,
   "id": "c728d653-32ac-463d-9de6-66fee816ae03",
   "metadata": {},
   "outputs": [],
   "source": [
    "def iqr(df, num_cols):\n",
    "    iqr_dict = {}\n",
    "    for col in num_cols:\n",
    "        Q1 = df[col].quantile(0.25)\n",
    "        Q3 = df[col].quantile(0.75)\n",
    "        IQR = Q3 - Q1\n",
    "        iqr_dict[col] = IQR \n",
    "    \n",
    "    return iqr_dict\n"
   ]
  },
  {
   "cell_type": "code",
   "execution_count": null,
   "id": "9d79c10a-0d44-4f85-87bd-a5f2943e9730",
   "metadata": {},
   "outputs": [],
   "source": [
    "iqr_values = iqr(df, num_cols)\n",
    "for col, qr in iqr_values.items():\n",
    "    print(f\"IQR for {col}: {qr:.2f}\")\n"
   ]
  }
 ],
 "metadata": {
  "kernelspec": {
   "display_name": "Python 3 (ipykernel)",
   "language": "python",
   "name": "python3"
  },
  "language_info": {
   "codemirror_mode": {
    "name": "ipython",
    "version": 3
   },
   "file_extension": ".py",
   "mimetype": "text/x-python",
   "name": "python",
   "nbconvert_exporter": "python",
   "pygments_lexer": "ipython3",
   "version": "3.11.7"
  }
 },
 "nbformat": 4,
 "nbformat_minor": 5
}
